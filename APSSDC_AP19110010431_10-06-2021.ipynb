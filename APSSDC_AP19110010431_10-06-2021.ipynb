{
 "cells": [
  {
   "cell_type": "markdown",
   "metadata": {},
   "source": [
    "#### TASK 1"
   ]
  },
  {
   "cell_type": "code",
   "execution_count": 4,
   "metadata": {},
   "outputs": [
    {
     "name": "stdout",
     "output_type": "stream",
     "text": [
      "I love cricket\n",
      "Length of string is 14\n",
      "  c\n"
     ]
    }
   ],
   "source": [
    "string = str(input())\n",
    "print(\"Length of string is {}\".format(len(string)))\n",
    "if len(string) % 2 == 0:\n",
    "    print(string[len(string)//2 - 1], string[len(string)//2])\n",
    "else:\n",
    "    print(string[len(string)//2])"
   ]
  },
  {
   "cell_type": "code",
   "execution_count": 8,
   "metadata": {},
   "outputs": [
    {
     "name": "stdout",
     "output_type": "stream",
     "text": [
      "He is a Cricketer\n",
      "Length of string is 17\n",
      "C\n"
     ]
    }
   ],
   "source": [
    "string = str(input())\n",
    "print(\"Length of string is {}\".format(len(string)))\n",
    "if len(string) % 2 == 0:\n",
    "    print(string[len(string)//2 - 1], string[len(string)//2])\n",
    "else:\n",
    "    print(string[len(string)//2])"
   ]
  },
  {
   "cell_type": "code",
   "execution_count": null,
   "metadata": {},
   "outputs": [],
   "source": []
  }
 ],
 "metadata": {
  "kernelspec": {
   "display_name": "Python 3",
   "language": "python",
   "name": "python3"
  },
  "language_info": {
   "codemirror_mode": {
    "name": "ipython",
    "version": 3
   },
   "file_extension": ".py",
   "mimetype": "text/x-python",
   "name": "python",
   "nbconvert_exporter": "python",
   "pygments_lexer": "ipython3",
   "version": "3.7.4"
  }
 },
 "nbformat": 4,
 "nbformat_minor": 2
}
