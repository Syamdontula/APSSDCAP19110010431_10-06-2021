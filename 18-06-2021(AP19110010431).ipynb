{
 "cells": [
  {
   "cell_type": "markdown",
   "metadata": {},
   "source": [
    "# TASK"
   ]
  },
  {
   "cell_type": "markdown",
   "metadata": {},
   "source": [
    "* write a program to print the last five lines from the file"
   ]
  },
  {
   "cell_type": "code",
   "execution_count": 36,
   "metadata": {},
   "outputs": [
    {
     "name": "stdout",
     "output_type": "stream",
     "text": [
      "A \n",
      "P  \n",
      "S  \n",
      "S  \n",
      "D  \n",
      "C  \n",
      "\n"
     ]
    }
   ],
   "source": [
    "#Creating file using W\n",
    "f = open(\"APSSDC.txt\",'w')\n",
    "f.write(\"A \\n\")\n",
    "f.write(\"P  \\n\")\n",
    "f.write(\"S  \\n\")\n",
    "f.write(\"S  \\n\")\n",
    "f.write(\"D  \\n\")\n",
    "f.write(\"C  \\n\")\n",
    "\n",
    "f = open('APSSDC.txt')\n",
    "print(f.read())\n",
    "f.close()"
   ]
  },
  {
   "cell_type": "code",
   "execution_count": 37,
   "metadata": {},
   "outputs": [
    {
     "name": "stdout",
     "output_type": "stream",
     "text": [
      "['P  \\n', 'S  \\n', 'S  \\n', 'D  \\n', 'C  \\n']\n"
     ]
    }
   ],
   "source": [
    "# GETTING LAST 5 LINES\n",
    "f = open(\"APSSDC.txt\", \"r\")\n",
    "f2 = f.readlines()\n",
    "f2_f2 = f2[-5:]\n",
    "\n",
    "print(f2_f2)\n",
    "f.close()"
   ]
  },
  {
   "cell_type": "markdown",
   "metadata": {},
   "source": [
    "\n",
    "## TASK 2\n",
    "\n",
    "* Write a function to append the data into a file."
   ]
  },
  {
   "cell_type": "code",
   "execution_count": 6,
   "metadata": {},
   "outputs": [
    {
     "name": "stdout",
     "output_type": "stream",
     "text": [
      "1 \n",
      "2 \n",
      "3 \n",
      "\n"
     ]
    }
   ],
   "source": [
    "f = open('SYAM.txt','w')\n",
    "f.write(\"1 \\n\")\n",
    "f.write(\"2 \\n\")\n",
    "f.write(\"3 \\n\")\n",
    "f.close()\n",
    "\n",
    "f = open('SYAM.txt')\n",
    "print(f.read())\n",
    "f.close()"
   ]
  },
  {
   "cell_type": "code",
   "execution_count": 7,
   "metadata": {},
   "outputs": [
    {
     "name": "stdout",
     "output_type": "stream",
     "text": [
      "1 \n",
      "2 \n",
      "3 \n",
      "4 \n",
      "5 \n",
      "\n"
     ]
    }
   ],
   "source": [
    "# appending data\n",
    "def append():\n",
    "    f=open('SYAM.txt', 'a')\n",
    "    f.write(\"4 \\n\")\n",
    "    f.write(\"5 \\n\") \n",
    "    f.close()\n",
    "    \n",
    "append()\n",
    "\n",
    "f = open('SYAM.txt')\n",
    "print(f.read())\n",
    "f.close()"
   ]
  },
  {
   "cell_type": "markdown",
   "metadata": {},
   "source": [
    "\n",
    "## TASK 3\n",
    "\n",
    "* Write a program to update a word in the file"
   ]
  },
  {
   "cell_type": "code",
   "execution_count": 24,
   "metadata": {},
   "outputs": [
    {
     "name": "stdout",
     "output_type": "stream",
     "text": [
      "Country Currency \n",
      "India - Dollar \n",
      "\n"
     ]
    }
   ],
   "source": [
    "import re\n",
    "f = open('hello.txt','w')\n",
    "f.write(\"Country Currency \\n\")\n",
    "f.write(\"India - Dollar \\n\")\n",
    "f.close()\n",
    "\n",
    "f = open('hello.txt')\n",
    "print(f.read())"
   ]
  },
  {
   "cell_type": "code",
   "execution_count": 35,
   "metadata": {},
   "outputs": [
    {
     "name": "stdout",
     "output_type": "stream",
     "text": [
      "Country Currency \n",
      "India - Rupee \n",
      "\n"
     ]
    }
   ],
   "source": [
    "with open('hello.txt','r+') as f:\n",
    "    text = f.read()\n",
    "    text = re.sub('Dollar', 'Rupee', text)\n",
    "    f.seek(0)\n",
    "    f.write(text)\n",
    "    f.truncate()\n",
    "    \n",
    "#reading the file\n",
    "f = open('hello.txt')\n",
    "print(f.read())"
   ]
  }
 ],
 "metadata": {
  "kernelspec": {
   "display_name": "Python 3",
   "language": "python",
   "name": "python3"
  },
  "language_info": {
   "codemirror_mode": {
    "name": "ipython",
    "version": 3
   },
   "file_extension": ".py",
   "mimetype": "text/x-python",
   "name": "python",
   "nbconvert_exporter": "python",
   "pygments_lexer": "ipython3",
   "version": "3.7.4"
  }
 },
 "nbformat": 4,
 "nbformat_minor": 2
}
