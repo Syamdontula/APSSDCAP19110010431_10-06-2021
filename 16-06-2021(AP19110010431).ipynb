{
 "cells": [
  {
   "cell_type": "markdown",
   "metadata": {},
   "source": [
    "### TASK"
   ]
  },
  {
   "cell_type": "code",
   "execution_count": 11,
   "metadata": {},
   "outputs": [],
   "source": [
    "import pyttsx3\n",
    "import emoji\n",
    "import camelcase"
   ]
  },
  {
   "cell_type": "code",
   "execution_count": 12,
   "metadata": {},
   "outputs": [],
   "source": [
    "def sentence(i):\n",
    "    if (i == camelcase.CamelCase().hump(i)):\n",
    "        return emoji.emojize(\"The sentence is in camel case :thumbsup:\", use_aliases = True)\n",
    "    else:\n",
    "        spk = pyttsx3.init()\n",
    "        spk.say(\"The sentence is not in camel case. Successfully converted your data into camel case.\")\n",
    "        spk.runAndWait()\n",
    "        return \"The sentence in camel case:\", camelcase.CamelCase().hump(i)"
   ]
  },
  {
   "cell_type": "code",
   "execution_count": 13,
   "metadata": {},
   "outputs": [
    {
     "name": "stdout",
     "output_type": "stream",
     "text": [
      "Enter a sentence Mani Syam\n",
      "The sentence is in camel case 👍\n"
     ]
    }
   ],
   "source": [
    "i = input(\"Enter a sentence \")\n",
    "x = sentence(i)\n",
    "print(x)"
   ]
  }
 ],
 "metadata": {
  "kernelspec": {
   "display_name": "Python 3",
   "language": "python",
   "name": "python3"
  },
  "language_info": {
   "codemirror_mode": {
    "name": "ipython",
    "version": 3
   },
   "file_extension": ".py",
   "mimetype": "text/x-python",
   "name": "python",
   "nbconvert_exporter": "python",
   "pygments_lexer": "ipython3",
   "version": "3.7.4"
  }
 },
 "nbformat": 4,
 "nbformat_minor": 2
}
