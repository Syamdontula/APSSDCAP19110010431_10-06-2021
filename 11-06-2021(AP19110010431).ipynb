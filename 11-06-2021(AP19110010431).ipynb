{
 "cells": [
  {
   "cell_type": "markdown",
   "metadata": {},
   "source": [
    "#### Write a Python function that takes two lists and returns True if they have at least one common member."
   ]
  },
  {
   "cell_type": "markdown",
   "metadata": {},
   "source": [
    "###### case1 - true"
   ]
  },
  {
   "cell_type": "code",
   "execution_count": 2,
   "metadata": {},
   "outputs": [
    {
     "name": "stdout",
     "output_type": "stream",
     "text": [
      "The above lists have at least one common member: True\n"
     ]
    }
   ],
   "source": [
    "def common(x, y):\n",
    "    flag = False\n",
    "    for i in x:\n",
    "        if (i in y):\n",
    "            flag = True\n",
    "        else:\n",
    "            pass\n",
    "    return flag\n",
    "\n",
    "x = [12,13,14,15,16]\n",
    "y = [16,17,18,19,19]\n",
    "result = common(x, y)\n",
    "print('The above lists have at least one common member:',result)"
   ]
  },
  {
   "cell_type": "markdown",
   "metadata": {},
   "source": [
    "###### case2 - false"
   ]
  },
  {
   "cell_type": "code",
   "execution_count": 3,
   "metadata": {},
   "outputs": [
    {
     "name": "stdout",
     "output_type": "stream",
     "text": [
      "The above lists have at least one common member: False\n"
     ]
    }
   ],
   "source": [
    "def common(x, y):\n",
    "    flag = False\n",
    "    for i in x:\n",
    "        if (i in y):\n",
    "            flag = True\n",
    "        else:\n",
    "            pass\n",
    "    return flag\n",
    "\n",
    "x = [21,22,23,24,25]\n",
    "y = [26,27,28,29,30]\n",
    "result = common(x, y)\n",
    "print('The above lists have at least one common member:',result)"
   ]
  },
  {
   "cell_type": "code",
   "execution_count": null,
   "metadata": {},
   "outputs": [],
   "source": []
  }
 ],
 "metadata": {
  "kernelspec": {
   "display_name": "Python 3",
   "language": "python",
   "name": "python3"
  },
  "language_info": {
   "codemirror_mode": {
    "name": "ipython",
    "version": 3
   },
   "file_extension": ".py",
   "mimetype": "text/x-python",
   "name": "python",
   "nbconvert_exporter": "python",
   "pygments_lexer": "ipython3",
   "version": "3.7.4"
  }
 },
 "nbformat": 4,
 "nbformat_minor": 2
}
